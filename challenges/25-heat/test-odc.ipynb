{
 "cells": [
  {
   "cell_type": "code",
   "execution_count": 113,
   "metadata": {},
   "outputs": [],
   "source": [
    "import geopandas\n",
    "rhodes = geopandas.read_file('rhodes.gpkg')\n",
    "bbox = rhodes.total_bounds"
   ]
  },
  {
   "cell_type": "code",
   "execution_count": 114,
   "metadata": {},
   "outputs": [],
   "source": [
    "import pystac_client\n",
    "\n",
    "api_url = \"https://earth-search.aws.element84.com/v1\"\n",
    "collection_id = \"sentinel-2-c1-l2a\"\n",
    "\n",
    "client = pystac_client.Client.open(api_url)\n",
    "search = client.search(\n",
    "    collections=[collection_id],\n",
    "    datetime=\"2023-07-01/2023-08-31\",\n",
    "    bbox=bbox\n",
    ")\n",
    "\n",
    "item_collection = search.item_collection()"
   ]
  },
  {
   "cell_type": "code",
   "execution_count": 115,
   "metadata": {},
   "outputs": [],
   "source": [
    "import odc.stac\n",
    "ds = odc.stac.load(\n",
    "    item_collection,\n",
    "    groupby='solar_day',\n",
    "    chunks={'x': 2048, 'y': 2048},\n",
    "    use_overviews=True,\n",
    "    resolution=20,\n",
    "    bbox=rhodes.total_bounds,\n",
    ")"
   ]
  },
  {
   "cell_type": "code",
   "execution_count": 116,
   "metadata": {},
   "outputs": [],
   "source": [
    "green = ds['green']\n",
    "blue = ds['blue']\n",
    "red = ds['red']\n",
    "nir = ds['nir']\n",
    "\n",
    "swir16 = ds['swir16']\n",
    "swir22 = ds['swir22']\n",
    "\n",
    "\n",
    "\n",
    "scl = ds['scl']"
   ]
  },
  {
   "cell_type": "code",
   "execution_count": 117,
   "metadata": {},
   "outputs": [],
   "source": [
    "# generate mask (\"True\" for pixel being cloud or water)\n",
    "mask = scl.isin([\n",
    "    #3,  # CLOUD_SHADOWS\n",
    "    6,  # WATER\n",
    "    #8,  # CLOUD_MEDIUM_PROBABILITY\n",
    "    #9,  # CLOUD_HIGH_PROBABILITY\n",
    "    10  # THIN_CIRRUS\n",
    "])\n",
    "green_masked = green.where(~mask)\n",
    "blue_masked = blue.where(~mask)\n",
    "red_masked = red.where(~mask)\n",
    "nir_masked = nir.where(~mask)\n",
    "\n",
    "swir16_masked = swir16.where(~mask)\n",
    "swir22_masked = swir22.where(~mask)\n"
   ]
  },
  {
   "cell_type": "code",
   "execution_count": 109,
   "metadata": {},
   "outputs": [],
   "source": [
    "import rioxarray"
   ]
  },
  {
   "cell_type": "code",
   "execution_count": 110,
   "metadata": {},
   "outputs": [],
   "source": [
    "ndvi = (nir_masked - red_masked) / (nir_masked + red_masked)\n",
    "ndwi = (green_masked - nir_masked)/(green_masked + nir_masked)\n",
    "index = (swir16_masked - swir22_masked)/(swir16_masked + swir22_masked)\n"
   ]
  },
  {
   "cell_type": "code",
   "execution_count": null,
   "metadata": {},
   "outputs": [],
   "source": [
    "ndvi.rio.resolution(), ndwi.rio.resolution(), index.rio.resolution()"
   ]
  },
  {
   "cell_type": "code",
   "execution_count": null,
   "metadata": {},
   "outputs": [],
   "source": [
    "index_match = index.rio.reproject_match(ndvi)\n",
    "swir16_masked_match = swir16_masked.rio.reproject_match(ndvi)"
   ]
  },
  {
   "cell_type": "code",
   "execution_count": 77,
   "metadata": {},
   "outputs": [],
   "source": [
    "burned = (\n",
    "    (ndvi <= 0.3) & \n",
    "    (ndwi <= 0.1) &\n",
    "    ((index_match + nir_masked/10_000) <= 0.1) &\n",
    "    ((blue_masked/10_000) <= 0.1) & \n",
    "    ((swir16_masked_match/10_000) >= 0.1)\n",
    ")"
   ]
  },
  {
   "cell_type": "code",
   "execution_count": 91,
   "metadata": {},
   "outputs": [],
   "source": [
    "burned_after = burned.sel(time=\"2023-08-27\")\n"
   ]
  },
  {
   "cell_type": "code",
   "execution_count": 92,
   "metadata": {},
   "outputs": [],
   "source": [
    "burned_int_after = burned_after.astype(int)"
   ]
  },
  {
   "cell_type": "code",
   "execution_count": 81,
   "metadata": {},
   "outputs": [],
   "source": [
    "import rioxarray  # Enables geospatial operations with xarray\n",
    "import rasterio\n",
    "from rasterio.transform import from_bounds\n",
    "\n",
    "def export_to_geotiff(data_array, output_path):\n",
    "    \"\"\"\n",
    "    Export an xarray.DataArray to a GeoTIFF file.\n",
    "    \n",
    "    Parameters:\n",
    "    - data_array (xarray.DataArray): The data to be exported.\n",
    "    - output_path (str): The file path where the GeoTIFF will be saved.\n",
    "    \"\"\"\n",
    "    # Ensure the DataArray has the proper CRS\n",
    "    if not data_array.rio.crs:\n",
    "        raise ValueError(\"DataArray must have a CRS. Use .rio.write_crs() to assign one.\")\n",
    "    \n",
    "    # Squeeze the DataArray to remove any extra dimensions\n",
    "    data_2d = data_array.squeeze()\n",
    "\n",
    "    # Verify that the data is now 2-dimensional\n",
    "    if data_2d.ndim != 2:\n",
    "        raise ValueError(\"The data array must be 2-dimensional after squeezing.\")\n",
    "\n",
    "    # Get the transform and CRS from the data\n",
    "    transform = from_bounds(\n",
    "        *data_2d.rio.bounds(),\n",
    "        data_2d.shape[1],  # width (x)\n",
    "        data_2d.shape[0]   # height (y)\n",
    "    )\n",
    "\n",
    "    # Export the DataArray to a GeoTIFF\n",
    "    with rasterio.open(\n",
    "        output_path,\n",
    "        'w',\n",
    "        driver='GTiff',\n",
    "        height=data_2d.shape[0],\n",
    "        width=data_2d.shape[1],\n",
    "        count=1,  # Number of bands (single band for this function)\n",
    "        dtype=data_2d.dtype,\n",
    "        crs=data_2d.rio.crs,  # CRS from the data\n",
    "        transform=transform,  # Affine transform\n",
    "    ) as dst:\n",
    "        dst.write(data_2d.values, 1)\n",
    "        \n",
    "    print(f\"GeoTIFF exported successfully to {output_path}\")"
   ]
  },
  {
   "cell_type": "code",
   "execution_count": 93,
   "metadata": {},
   "outputs": [],
   "source": [
    "burned_int_after = burned_int_after.squeeze()"
   ]
  },
  {
   "cell_type": "code",
   "execution_count": 94,
   "metadata": {},
   "outputs": [],
   "source": [
    "burned_int_after = burned_int_after.rio.write_crs(\"EPSG:32635\")"
   ]
  },
  {
   "cell_type": "code",
   "execution_count": null,
   "metadata": {},
   "outputs": [],
   "source": [
    "export_to_geotiff(burned_int_after, \"burned_after4.tif\")"
   ]
  },
  {
   "cell_type": "code",
   "execution_count": 118,
   "metadata": {},
   "outputs": [
    {
     "ename": "ValueError",
     "evalue": "Source shape (1, 25, 3255, 2567) is inconsistent with given indexes 1",
     "output_type": "error",
     "traceback": [
      "\u001b[1;31m---------------------------------------------------------------------------\u001b[0m",
      "\u001b[1;31mValueError\u001b[0m                                Traceback (most recent call last)",
      "Cell \u001b[1;32mIn[118], line 62\u001b[0m\n\u001b[0;32m     59\u001b[0m     \u001b[38;5;28mprint\u001b[39m(\u001b[38;5;124mf\u001b[39m\u001b[38;5;124m\"\u001b[39m\u001b[38;5;124mRGB GeoTIFF exported successfully to \u001b[39m\u001b[38;5;132;01m{\u001b[39;00moutput_path\u001b[38;5;132;01m}\u001b[39;00m\u001b[38;5;124m\"\u001b[39m)\n\u001b[0;32m     61\u001b[0m \u001b[38;5;66;03m# Example usage:\u001b[39;00m\n\u001b[1;32m---> 62\u001b[0m \u001b[43mexport_rgb_to_geotiff\u001b[49m\u001b[43m(\u001b[49m\u001b[43mred_masked\u001b[49m\u001b[43m,\u001b[49m\u001b[43m \u001b[49m\u001b[43mgreen_masked\u001b[49m\u001b[43m,\u001b[49m\u001b[43m \u001b[49m\u001b[43mblue_masked\u001b[49m\u001b[43m,\u001b[49m\u001b[43m \u001b[49m\u001b[38;5;124;43m\"\u001b[39;49m\u001b[38;5;124;43mtrue_color_image_4.tif\u001b[39;49m\u001b[38;5;124;43m\"\u001b[39;49m\u001b[43m)\u001b[49m\n",
      "Cell \u001b[1;32mIn[118], line 55\u001b[0m, in \u001b[0;36mexport_rgb_to_geotiff\u001b[1;34m(red, green, blue, output_path)\u001b[0m\n\u001b[0;32m     43\u001b[0m \u001b[38;5;66;03m# Export the RGB data to a GeoTIFF\u001b[39;00m\n\u001b[0;32m     44\u001b[0m \u001b[38;5;28;01mwith\u001b[39;00m rasterio\u001b[38;5;241m.\u001b[39mopen(\n\u001b[0;32m     45\u001b[0m     output_path,\n\u001b[0;32m     46\u001b[0m     \u001b[38;5;124m'\u001b[39m\u001b[38;5;124mw\u001b[39m\u001b[38;5;124m'\u001b[39m,\n\u001b[1;32m   (...)\u001b[0m\n\u001b[0;32m     53\u001b[0m     transform\u001b[38;5;241m=\u001b[39mtransform,  \u001b[38;5;66;03m# Affine transform\u001b[39;00m\n\u001b[0;32m     54\u001b[0m ) \u001b[38;5;28;01mas\u001b[39;00m dst:\n\u001b[1;32m---> 55\u001b[0m     \u001b[43mdst\u001b[49m\u001b[38;5;241;43m.\u001b[39;49m\u001b[43mwrite\u001b[49m\u001b[43m(\u001b[49m\u001b[43mrgb_data\u001b[49m\u001b[43m[\u001b[49m\u001b[38;5;241;43m0\u001b[39;49m\u001b[43m]\u001b[49m\u001b[43m,\u001b[49m\u001b[43m \u001b[49m\u001b[38;5;241;43m1\u001b[39;49m\u001b[43m)\u001b[49m  \u001b[38;5;66;03m# Write red band\u001b[39;00m\n\u001b[0;32m     56\u001b[0m     dst\u001b[38;5;241m.\u001b[39mwrite(rgb_data[\u001b[38;5;241m1\u001b[39m], \u001b[38;5;241m2\u001b[39m)  \u001b[38;5;66;03m# Write green band\u001b[39;00m\n\u001b[0;32m     57\u001b[0m     dst\u001b[38;5;241m.\u001b[39mwrite(rgb_data[\u001b[38;5;241m2\u001b[39m], \u001b[38;5;241m3\u001b[39m)  \u001b[38;5;66;03m# Write blue band\u001b[39;00m\n",
      "File \u001b[1;32mrasterio\\\\_io.pyx:1736\u001b[0m, in \u001b[0;36mrasterio._io.DatasetWriterBase.write\u001b[1;34m()\u001b[0m\n",
      "\u001b[1;31mValueError\u001b[0m: Source shape (1, 25, 3255, 2567) is inconsistent with given indexes 1"
     ]
    }
   ],
   "source": [
    "import rioxarray  # Enables geospatial operations with xarray\n",
    "import rasterio\n",
    "from rasterio.transform import from_bounds\n",
    "\n",
    "def export_rgb_to_geotiff(red, green, blue, output_path):\n",
    "    \"\"\"\n",
    "    Export red, green, and blue xarray.DataArrays as a true color RGB GeoTIFF.\n",
    "    \n",
    "    Parameters:\n",
    "    - red (xarray.DataArray): The red band data.\n",
    "    - green (xarray.DataArray): The green band data.\n",
    "    - blue (xarray.DataArray): The blue band data.\n",
    "    - output_path (str): The file path where the GeoTIFF will be saved.\n",
    "    \"\"\"\n",
    "    # Ensure each DataArray has the proper CRS and squeeze extra dimensions\n",
    "    if not red.rio.crs or not green.rio.crs or not blue.rio.crs:\n",
    "        raise ValueError(\"Each DataArray must have a CRS. Use .rio.write_crs() to assign one.\")\n",
    "    \n",
    "    # Ensure they all share the same CRS and bounds\n",
    "    if not (red.rio.crs == green.rio.crs == blue.rio.crs):\n",
    "        raise ValueError(\"All input bands must have the same CRS.\")\n",
    "    \n",
    "    # Squeeze the DataArrays to remove any extra dimensions\n",
    "    red_2d = red.squeeze()\n",
    "    green_2d = green.squeeze()\n",
    "    blue_2d = blue.squeeze()\n",
    "\n",
    "    # Ensure that the dimensions match\n",
    "    if red_2d.shape != green_2d.shape or green_2d.shape != blue_2d.shape:\n",
    "        raise ValueError(\"All input bands must have the same shape.\")\n",
    "    \n",
    "    # Get the transform and CRS from one of the bands\n",
    "    transform = from_bounds(\n",
    "        *red_2d.rio.bounds(),\n",
    "        red_2d.shape[1],  # width (x)\n",
    "        red_2d.shape[0]   # height (y)\n",
    "    )\n",
    "    crs = red_2d.rio.crs\n",
    "\n",
    "    # Stack the RGB data into a 3D array (bands, height, width)\n",
    "    rgb_data = [red_2d.values, green_2d.values, blue_2d.values]\n",
    "    \n",
    "    # Export the RGB data to a GeoTIFF\n",
    "    with rasterio.open(\n",
    "        output_path,\n",
    "        'w',\n",
    "        driver='GTiff',\n",
    "        height=red_2d.shape[0],\n",
    "        width=red_2d.shape[1],\n",
    "        count=3,  # Three bands for RGB\n",
    "        dtype=red_2d.dtype,  # Assume all bands have the same dtype\n",
    "        crs=crs,  # CRS from the data\n",
    "        transform=transform,  # Affine transform\n",
    "    ) as dst:\n",
    "        dst.write(rgb_data[0], 1)  # Write red band\n",
    "        dst.write(rgb_data[1], 2)  # Write green band\n",
    "        dst.write(rgb_data[2], 3)  # Write blue band\n",
    "    \n",
    "    print(f\"RGB GeoTIFF exported successfully to {output_path}\")\n",
    "\n",
    "# Example usage:\n",
    "export_rgb_to_geotiff(red_masked, green_masked, blue_masked, \"true_color_image_4.tif\")\n"
   ]
  }
 ],
 "metadata": {
  "kernelspec": {
   "display_name": "Python 3",
   "language": "python",
   "name": "python3"
  },
  "language_info": {
   "codemirror_mode": {
    "name": "ipython",
    "version": 3
   },
   "file_extension": ".py",
   "mimetype": "text/x-python",
   "name": "python",
   "nbconvert_exporter": "python",
   "pygments_lexer": "ipython3",
   "version": "3.10.13"
  }
 },
 "nbformat": 4,
 "nbformat_minor": 2
}
